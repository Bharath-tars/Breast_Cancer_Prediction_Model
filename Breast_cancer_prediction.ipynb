{
  "nbformat": 4,
  "nbformat_minor": 0,
  "metadata": {
    "colab": {
      "provenance": [],
      "authorship_tag": "ABX9TyOKZuqlVRquQ0V8dnpLY3v2",
      "include_colab_link": true
    },
    "kernelspec": {
      "name": "python3",
      "display_name": "Python 3"
    },
    "language_info": {
      "name": "python"
    }
  },
  "cells": [
    {
      "cell_type": "markdown",
      "metadata": {
        "id": "view-in-github",
        "colab_type": "text"
      },
      "source": [
        "<a href=\"https://colab.research.google.com/github/Bharath-tars/Breast_Cancer_Supervised_Model/blob/main/Breast_cancer_prediction.ipynb\" target=\"_parent\"><img src=\"https://colab.research.google.com/assets/colab-badge.svg\" alt=\"Open In Colab\"/></a>"
      ]
    },
    {
      "cell_type": "code",
      "execution_count": null,
      "metadata": {
        "id": "g9qxF6ZUJUlN"
      },
      "outputs": [],
      "source": [
        "from sklearn import datasets\n",
        "import numpy as np\n",
        "import math, copy"
      ]
    },
    {
      "cell_type": "code",
      "source": [
        "cancer_data = datasets.load_breast_cancer()\n",
        "features = cancer_data.data\n",
        "targets = cancer_data.target"
      ],
      "metadata": {
        "id": "igpk78mNJcds"
      },
      "execution_count": null,
      "outputs": []
    },
    {
      "cell_type": "code",
      "source": [
        "_,len_features = features.shape\n",
        "b=0\n",
        "w=[]\n",
        "for i in range(len_features):\n",
        "  w.append(0)"
      ],
      "metadata": {
        "id": "iIVE-L-kLKJt"
      },
      "execution_count": null,
      "outputs": []
    },
    {
      "cell_type": "code",
      "source": [
        "def model_function(X,w,b):\n",
        "  f = np.dot(X,w)+b\n",
        "  fw = 1/(1+(2.7**(-f)))\n",
        "  return fw"
      ],
      "metadata": {
        "id": "9XA-UFSMJ9eD"
      },
      "execution_count": null,
      "outputs": []
    },
    {
      "cell_type": "code",
      "source": [
        "def loss_function(X,y,w,b):\n",
        "  m,_=X.shape\n",
        "  loss_result=0.0\n",
        "  for i in range(m):\n",
        "    fw = model_function(X[i],w,b)\n",
        "    loss_result = loss_result + ((-y[i]*(np.log(fw)))-((1-y[i])*(1-np.log(fw))))\n",
        "  loss_result = loss_result/m\n",
        "  return loss_result"
      ],
      "metadata": {
        "id": "CtPUheEOL0kF"
      },
      "execution_count": null,
      "outputs": []
    },
    {
      "cell_type": "code",
      "source": [
        "w_in=[]\n",
        "for i in range(len_features):\n",
        "  w_in.append(i)\n",
        "print(loss_function(features,targets,w_in,b))"
      ],
      "metadata": {
        "id": "0MD5-mLuTHNb"
      },
      "execution_count": null,
      "outputs": []
    },
    {
      "cell_type": "code",
      "source": [
        "def partial_derivatives(X,y,w,b):\n",
        "  m,n = X.shape\n",
        "  dj_dw = np.zeros((n,0))\n",
        "  dj_db = 0.0\n",
        "  for i in range(m):\n",
        "      fw = model_function(X[i],w,b)\n",
        "      fw_sub = fw-y[i]\n",
        "      for j in range(n):\n",
        "        dj_dw[j] = dj_dw[j] + (fw_sub*X[i,j])\n",
        "      dj_db = dj_db + fw_sub\n",
        "  dj_dw = dj_dw/m\n",
        "  dj_db = dj_db/m\n",
        "  return dj_dw,dj_db"
      ],
      "metadata": {
        "id": "qkQ9xU3rPO0_"
      },
      "execution_count": null,
      "outputs": []
    },
    {
      "cell_type": "code",
      "source": [
        "dj_dw,dj_db = partial_derivatives(features,targets,w,b)\n",
        "print(dj_dw)\n",
        "print(dj_db)"
      ],
      "metadata": {
        "id": "G-Myb923TTpy"
      },
      "execution_count": null,
      "outputs": []
    },
    {
      "cell_type": "code",
      "source": [
        "def gradient_descent(X, y, w_in, b_in, loss_function, partial_derivatives, alpha, num_iters): \n",
        "    \n",
        "    J_history = []\n",
        "    w = copy.deepcopy(w_in)  #avoids modifying\n",
        "    b = b_in\n",
        "    \n",
        "    for i in range(num_iters):\n",
        "\n",
        "        dj_db,dj_dw = partial_derivatives(X, y, w, b)   \n",
        "        \n",
        "        w = w - alpha * dj_dw               \n",
        "        b = b - alpha * dj_db               \n",
        "      \n",
        "        # Saves cost J at each iteration\n",
        "        if i<100000:      # prevent resource exhaustion \n",
        "            J_history.append( loss_function(X, y, w, b))\n",
        "\n",
        "        # # Prints cost every at intervals 10 times or as many iterations if < 10\n",
        "        # if i% math.ceil(num_iters / 10) == 0:\n",
        "        #     print(f\"Iteration {i:4d}: Cost {J_history[-1]:8.2f}   \")\n",
        "        \n",
        "    return w, b, J_history #returns final w,b and J history for graphing"
      ],
      "metadata": {
        "id": "4Vlo8rj2T2G8"
      },
      "execution_count": null,
      "outputs": []
    },
    {
      "cell_type": "code",
      "source": [
        "alpha = 1.0e-7\n",
        "num_iters = 1000\n",
        "final_w, final_b, final_loss = gradient_descent(features, targets, w, b, loss_function, partial_derivatives, alpha, num_iters)"
      ],
      "metadata": {
        "id": "IkL9WjD4V5jF"
      },
      "execution_count": null,
      "outputs": []
    },
    {
      "cell_type": "code",
      "source": [],
      "metadata": {
        "id": "tCEY4TB5WX_A"
      },
      "execution_count": null,
      "outputs": []
    }
  ]
}